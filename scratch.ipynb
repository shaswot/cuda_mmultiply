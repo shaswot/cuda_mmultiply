{
 "cells": [
  {
   "cell_type": "code",
   "execution_count": 1,
   "id": "35073255",
   "metadata": {},
   "outputs": [],
   "source": [
    "import numpy as np"
   ]
  },
  {
   "cell_type": "code",
   "execution_count": 3,
   "id": "613aad91",
   "metadata": {},
   "outputs": [
    {
     "name": "stdout",
     "output_type": "stream",
     "text": [
      "[[0.16601191 0.9288838  0.8867101  0.570685   0.9893705 ]\n",
      " [0.7998941  0.83421206 0.63151354 0.24738553 0.92271966]\n",
      " [0.72419375 0.01712473 0.79759264 0.57715386 0.20709808]\n",
      " [0.77255213 0.48795596 0.46905077 0.8388901  0.06091749]\n",
      " [0.09542359 0.735022   0.92294884 0.8200013  0.228211  ]\n",
      " [0.21848772 0.356739   0.09745716 0.5412888  0.81855017]\n",
      " [0.4219666  0.88009745 0.4298312  0.3623919  0.47542265]]\n",
      "[[0.28333363 0.27245486 0.03346044]\n",
      " [0.2273962  0.15957882 0.77421355]\n",
      " [0.47216856 0.61339384 0.30768576]\n",
      " [0.39609846 0.52037567 0.31910428]\n",
      " [0.08460768 0.48327965 0.41358635]]\n"
     ]
    }
   ],
   "source": [
    "matrix_X = np.load(\"./data/random_matrix.npy\")\n",
    "matrix_Y = np.load(\"./data/random_input_mat.npy\")\n",
    "print(matrix_X)\n",
    "print(matrix_Y)"
   ]
  },
  {
   "cell_type": "code",
   "execution_count": 4,
   "id": "ca5b6c3e",
   "metadata": {},
   "outputs": [
    {
     "name": "stdout",
     "output_type": "stream",
     "text": [
      "[[0.98669386 1.5124767  1.5888356 ]\n",
      " [0.89057255 1.3130891  1.3274969 ]\n",
      " [0.83181256 1.0897044  0.55272317]\n",
      " [0.8887575  1.042044   0.84084034]\n",
      " [0.974075   1.2464222  1.212286  ]\n",
      " [0.4727015  0.8534978  0.8247578 ]\n",
      " [0.70640826 0.9374096  1.1400247 ]]\n"
     ]
    }
   ],
   "source": [
    "matrix_Z = np.matmul(matrix_X, matrix_Y)\n",
    "print(matrix_Z)"
   ]
  },
  {
   "cell_type": "code",
   "execution_count": null,
   "id": "a920f8b8",
   "metadata": {},
   "outputs": [],
   "source": []
  }
 ],
 "metadata": {
  "kernelspec": {
   "display_name": "Python 3",
   "language": "python",
   "name": "python3"
  },
  "language_info": {
   "codemirror_mode": {
    "name": "ipython",
    "version": 3
   },
   "file_extension": ".py",
   "mimetype": "text/x-python",
   "name": "python",
   "nbconvert_exporter": "python",
   "pygments_lexer": "ipython3",
   "version": "3.7.10"
  }
 },
 "nbformat": 4,
 "nbformat_minor": 5
}
